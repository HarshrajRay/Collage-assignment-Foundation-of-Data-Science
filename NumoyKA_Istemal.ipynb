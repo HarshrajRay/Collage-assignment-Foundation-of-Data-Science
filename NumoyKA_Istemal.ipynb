{
  "nbformat": 4,
  "nbformat_minor": 0,
  "metadata": {
    "colab": {
      "provenance": [],
      "toc_visible": true,
      "authorship_tag": "ABX9TyOXSjzVjhz4kyFcyLws4WOG",
      "include_colab_link": true
    },
    "kernelspec": {
      "name": "python3",
      "display_name": "Python 3"
    },
    "language_info": {
      "name": "python"
    }
  },
  "cells": [
    {
      "cell_type": "markdown",
      "metadata": {
        "id": "view-in-github",
        "colab_type": "text"
      },
      "source": [
        "<a href=\"https://colab.research.google.com/github/HarshrajRay/Collage-assignment-Foundation-of-Data-Science/blob/main/NumoyKA_Istemal.ipynb\" target=\"_parent\"><img src=\"https://colab.research.google.com/assets/colab-badge.svg\" alt=\"Open In Colab\"/></a>"
      ]
    },
    {
      "cell_type": "markdown",
      "source": [
        "**Numpy**\n",
        "\n",
        "---\n",
        "\n"
      ],
      "metadata": {
        "id": "FhVGXSjzv5Et"
      }
    },
    {
      "cell_type": "code",
      "execution_count": null,
      "metadata": {
        "colab": {
          "base_uri": "https://localhost:8080/"
        },
        "id": "j_iYr937LvVJ",
        "outputId": "c4e2e698-3800-4d06-9237-c4de520debfe"
      },
      "outputs": [
        {
          "output_type": "stream",
          "name": "stdout",
          "text": [
            "[1 2 3 4 5 6 7 8 9]\n"
          ]
        }
      ],
      "source": [
        "import numpy as np\n",
        "import pandas as pd\n",
        "arr = np.array([1,2,3,4,5,6,7,8,9])\n",
        "print(arr)"
      ]
    },
    {
      "cell_type": "code",
      "source": [
        "import numpy as np\n",
        "print(np.__version__)"
      ],
      "metadata": {
        "colab": {
          "base_uri": "https://localhost:8080/"
        },
        "id": "ngFlLITEM4RO",
        "outputId": "1f0f0850-aa03-401c-e1d3-e46bb90118bd"
      },
      "execution_count": null,
      "outputs": [
        {
          "output_type": "stream",
          "name": "stdout",
          "text": [
            "1.25.2\n"
          ]
        }
      ]
    },
    {
      "cell_type": "markdown",
      "source": [
        "**Now let's make dimensional array**\n",
        "\n",
        "---\n",
        "\n",
        "\n"
      ],
      "metadata": {
        "id": "NFrinL7KNNxx"
      }
    },
    {
      "cell_type": "markdown",
      "source": [
        "**0 D Array**"
      ],
      "metadata": {
        "id": "vKlqfguPRp52"
      }
    },
    {
      "cell_type": "code",
      "source": [
        "import numpy as np\n",
        "arr = np.array(42)\n",
        "print(arr)"
      ],
      "metadata": {
        "colab": {
          "base_uri": "https://localhost:8080/"
        },
        "id": "AnKoELPAOAtF",
        "outputId": "14923b2f-b6e6-4e2d-9578-ce7dfc832a3a"
      },
      "execution_count": null,
      "outputs": [
        {
          "output_type": "stream",
          "name": "stdout",
          "text": [
            "42\n"
          ]
        }
      ]
    },
    {
      "cell_type": "markdown",
      "source": [
        "**1 D Array**"
      ],
      "metadata": {
        "id": "w9_96bEcRwCO"
      }
    },
    {
      "cell_type": "code",
      "source": [
        "import numpy as np\n",
        "arr = np.array([1,2,3,4,5])\n",
        "print(arr)"
      ],
      "metadata": {
        "colab": {
          "base_uri": "https://localhost:8080/"
        },
        "id": "inNWegAgObTh",
        "outputId": "bfc5bd52-6e9a-4b4b-9475-7e9377ef8950"
      },
      "execution_count": null,
      "outputs": [
        {
          "output_type": "stream",
          "name": "stdout",
          "text": [
            "[1 2 3 4 5]\n"
          ]
        }
      ]
    },
    {
      "cell_type": "markdown",
      "source": [
        "**2 D Array**"
      ],
      "metadata": {
        "id": "tSP9BKjgR_ii"
      }
    },
    {
      "cell_type": "code",
      "source": [
        "import numpy as np\n",
        "arr = np.array([[1,2,3],[4,5,6]])\n",
        "print(arr)"
      ],
      "metadata": {
        "colab": {
          "base_uri": "https://localhost:8080/"
        },
        "id": "qRjKTb7cOjAo",
        "outputId": "4c71411b-03f9-47db-ad7a-fbf6ba44e03a"
      },
      "execution_count": null,
      "outputs": [
        {
          "output_type": "stream",
          "name": "stdout",
          "text": [
            "[[1 2 3]\n",
            " [4 5 6]]\n"
          ]
        }
      ]
    },
    {
      "cell_type": "markdown",
      "source": [
        "**3 D Array**"
      ],
      "metadata": {
        "id": "D0-Oga_ASIOl"
      }
    },
    {
      "cell_type": "code",
      "source": [
        "import numpy as np\n",
        "arr = np.array([[[1,2,3],[4,5,6],[7,2,3]],[[1,2,3],[5,6,7],[3,4,6]]])\n",
        "print(arr)"
      ],
      "metadata": {
        "colab": {
          "base_uri": "https://localhost:8080/"
        },
        "id": "0N-ANh3-Otap",
        "outputId": "8557f74f-3230-4fd3-a525-fa84948c9d71"
      },
      "execution_count": null,
      "outputs": [
        {
          "output_type": "stream",
          "name": "stdout",
          "text": [
            "[[[1 2 3]\n",
            "  [4 5 6]\n",
            "  [7 2 3]]\n",
            "\n",
            " [[1 2 3]\n",
            "  [5 6 7]\n",
            "  [3 4 6]]]\n"
          ]
        }
      ]
    },
    {
      "cell_type": "markdown",
      "source": [
        "**Sclicing**\n",
        "\n",
        "---\n",
        "\n"
      ],
      "metadata": {
        "id": "dbASxWg_qh1H"
      }
    },
    {
      "cell_type": "code",
      "source": [
        "import numpy as np\n",
        "arr = np.array([[1,2,3,4,5],[6,7,8,9,10]])\n",
        "print(arr[1:2,0:3])"
      ],
      "metadata": {
        "colab": {
          "base_uri": "https://localhost:8080/"
        },
        "id": "NHpNFbJBTBzs",
        "outputId": "c946dfe6-2630-40f6-caab-9c2c09c5d2f9"
      },
      "execution_count": null,
      "outputs": [
        {
          "output_type": "stream",
          "name": "stdout",
          "text": [
            "[[6 7 8]]\n"
          ]
        }
      ]
    },
    {
      "cell_type": "markdown",
      "source": [
        "---\n",
        "---\n",
        "**EXERCISE PROBLEM**\n",
        "---\n",
        "\n",
        "\n"
      ],
      "metadata": {
        "id": "ZJF9HyqT0amz"
      }
    },
    {
      "cell_type": "code",
      "source": [
        "#Question 1\n",
        "import numpy as np\n",
        "print(np.__version__)"
      ],
      "metadata": {
        "colab": {
          "base_uri": "https://localhost:8080/"
        },
        "id": "NQATUfZosLnz",
        "outputId": "72f457a7-b66a-435f-8692-5b48b640498d"
      },
      "execution_count": null,
      "outputs": [
        {
          "output_type": "stream",
          "name": "stdout",
          "text": [
            "1.25.2\n"
          ]
        }
      ]
    },
    {
      "cell_type": "code",
      "source": [
        "#Question 2\n",
        "import numpy as np\n",
        "\n",
        "x = np.array([1,2,3,4,5])\n",
        "\n",
        "print(\"Original array:\")\n",
        "print(x,\"\\n\")\n",
        "\n",
        "print(\"Does array have a zero as elemet:\")\n",
        "print(np.all(x),\"\\n\")\n",
        "\n",
        "x = np.array([0,2,3,4])\n",
        "print(\"Changed array\")\n",
        "print(x,\"\\n\")\n",
        "print(\"Does array have a zero as element:\")\n",
        "print(np.all(x))"
      ],
      "metadata": {
        "colab": {
          "base_uri": "https://localhost:8080/"
        },
        "id": "RTyCpYKA2jS_",
        "outputId": "2cf3468a-c671-4dc6-9e5d-c387971689c1"
      },
      "execution_count": null,
      "outputs": [
        {
          "output_type": "stream",
          "name": "stdout",
          "text": [
            "Original array:\n",
            "[1 2 3 4 5] \n",
            "\n",
            "Does array have a zero as elemet:\n",
            "True \n",
            "\n",
            "Changed array\n",
            "[0 2 3 4] \n",
            "\n",
            "Does array have a zero as element:\n",
            "False\n"
          ]
        }
      ]
    },
    {
      "cell_type": "code",
      "source": [
        "#Question 3\n",
        "import numpy as np\n",
        "\n",
        "i = np.array([1,2,3,4,5])\n",
        "j = np.array([6,7,8,9,10])\n",
        "\n",
        "print(\"Original arrays\")\n",
        "\n",
        "print(i)\n",
        "print(j,\"\\n\")\n",
        "\n",
        "print(\"Greater\")\n",
        "print(np.greater(i,j),\"\\n\")\n",
        "\n",
        "print(\"Greater and Equal\")\n",
        "print(np.greater_equal(i,j),\"\\n\")\n",
        "\n",
        "print(\"Less\")\n",
        "print(np.less(i,j),\"\\n\")\n",
        "\n",
        "print(\"Less and Equal\")\n",
        "print(np.less_equal(i,j))\n"
      ],
      "metadata": {
        "colab": {
          "base_uri": "https://localhost:8080/"
        },
        "id": "MLQ0e_aD4TaQ",
        "outputId": "f0263caf-c73d-4cbc-95e8-f87aaf94863a"
      },
      "execution_count": null,
      "outputs": [
        {
          "output_type": "stream",
          "name": "stdout",
          "text": [
            "Original arrays\n",
            "[1 2 3 4 5]\n",
            "[ 6  7  8  9 10] \n",
            "\n",
            "Greater\n",
            "[False False False False False] \n",
            "\n",
            "Greater and Equal\n",
            "[False False False False False] \n",
            "\n",
            "Less\n",
            "[ True  True  True  True  True] \n",
            "\n",
            "Less and Equal\n",
            "[ True  True  True  True  True]\n"
          ]
        }
      ]
    },
    {
      "cell_type": "code",
      "source": [
        "#Question 4\n",
        "import numpy as np\n",
        "\n",
        "arr = np.array([1, 7, 13, 105])\n",
        "\n",
        "print(\"Original array:\")\n",
        "print(X)\n",
        "\n",
        "print(\"Size of the memory occupied by the said array:\")\n",
        "print( (arr.size * arr.itemsize),\"bytes\")"
      ],
      "metadata": {
        "colab": {
          "base_uri": "https://localhost:8080/"
        },
        "id": "0QL5adYUIeDy",
        "outputId": "3382f724-55bf-4e69-b586-2d9d10ef140b"
      },
      "execution_count": null,
      "outputs": [
        {
          "output_type": "stream",
          "name": "stdout",
          "text": [
            "Original array:\n",
            "[  1   7  13 105]\n",
            "Size of the memory occupied by the said array:\n",
            "32 bytes\n"
          ]
        }
      ]
    },
    {
      "cell_type": "code",
      "source": [
        "#Question 5\n",
        "import numpy as np\n",
        "arr = np.arange(30,71)\n",
        "print(\"Array of elements from 30 to 70:\")\n",
        "print(arr)"
      ],
      "metadata": {
        "colab": {
          "base_uri": "https://localhost:8080/"
        },
        "id": "18-Uuyo26gjs",
        "outputId": "782354ed-2106-404e-f86f-d732af1f13ed"
      },
      "execution_count": null,
      "outputs": [
        {
          "output_type": "stream",
          "name": "stdout",
          "text": [
            "Array of elements from 30 to 70:\n",
            "[30 31 32 33 34 35 36 37 38 39 40 41 42 43 44 45 46 47 48 49 50 51 52 53\n",
            " 54 55 56 57 58 59 60 61 62 63 64 65 66 67 68 69 70]\n"
          ]
        }
      ]
    },
    {
      "cell_type": "code",
      "source": [
        "#Question 6\n",
        "import numpy as np\n",
        "arr = np.arange(30,71,2)\n",
        "print(\"Array of even elements from 30 to 70:\")\n",
        "print(arr)"
      ],
      "metadata": {
        "colab": {
          "base_uri": "https://localhost:8080/"
        },
        "id": "LtuxA2WL81yK",
        "outputId": "9ffd5911-4bb3-439f-f235-c1d93032c2d2"
      },
      "execution_count": null,
      "outputs": [
        {
          "output_type": "stream",
          "name": "stdout",
          "text": [
            "Array of even elements from 30 to 70:\n",
            "[30 32 34 36 38 40 42 44 46 48 50 52 54 56 58 60 62 64 66 68 70]\n"
          ]
        }
      ]
    },
    {
      "cell_type": "code",
      "source": [
        "#Question 7\n",
        "import numpy as np\n",
        "arr = np.identity(3)\n",
        "print(\"3x3 Martrix \\n\")\n",
        "print(arr)"
      ],
      "metadata": {
        "colab": {
          "base_uri": "https://localhost:8080/"
        },
        "id": "VUh6QY8WLLYQ",
        "outputId": "58918c96-511a-41d2-e2f3-17dc0235997c"
      },
      "execution_count": null,
      "outputs": [
        {
          "output_type": "stream",
          "name": "stdout",
          "text": [
            "3x3 Martrix \n",
            "\n",
            "[[1. 0. 0.]\n",
            " [0. 1. 0.]\n",
            " [0. 0. 1.]]\n"
          ]
        }
      ]
    },
    {
      "cell_type": "code",
      "source": [
        "#Sample code\n",
        "import numpy as np\n",
        "a = np.arange(11,23).reshape((3, 4))\n",
        "print(\"Original array:\")\n",
        "print(a)\n",
        "print(\"Each element of the array is:\")\n",
        "for x in np.nditer(a):\n",
        "  print(x,end=\" \")"
      ],
      "metadata": {
        "colab": {
          "base_uri": "https://localhost:8080/"
        },
        "id": "fbkXA23GPIZc",
        "outputId": "3a06722a-d03c-47be-a1f9-0452c2f487a0"
      },
      "execution_count": null,
      "outputs": [
        {
          "output_type": "stream",
          "name": "stdout",
          "text": [
            "Original array:\n",
            "[[11 12 13 14]\n",
            " [15 16 17 18]\n",
            " [19 20 21 22]]\n",
            "Each element of the array is:\n",
            "11 12 13 14 15 16 17 18 19 20 21 22 "
          ]
        }
      ]
    }
  ]
}